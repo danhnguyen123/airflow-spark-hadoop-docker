{
 "cells": [
  {
   "cell_type": "code",
   "execution_count": null,
   "id": "c072e7f6",
   "metadata": {},
   "outputs": [],
   "source": [
    "from pyspark.sql import SparkSession\n",
    "from pyspark.sql.functions import *\n",
    "from pyspark.sql.types import *\n",
    "from datetime import datetime\n",
    "from pyspark.sql import Window, functions as F\n",
    "spark = SparkSession.builder.appName(\"Play\").getOrCreate()\n",
    "sc = spark.sparkContext\n",
    "spark.conf.set(\"spark.hadoop.fs.s3a.endpoint\", \"http://127.0.0.1:9000\")\n",
    "spark.conf.set(\"spark.hadoop.fs.s3a.access.key\", \"RRv1gXOjum9869TO9PYt\")\n",
    "spark.conf.set(\"spark.hadoop.fs.s3a.secret.key\", \"hpxIFe0ioyrpDhqGt03SM8sV8AYvPP29SmJ62jl8\" )\n",
    "spark.conf.set(\"spark.hadoop.fs.s3a.path.style.access\", \"true\")\n",
    "spark.conf.set(\"spark.hadoop.fs.s3a.impl\", \"org.apache.hadoop.fs.s3a.S3AFileSystem\")\n",
    "spark.conf.set(\"spark.hadoop.fs.s3a.connection.ssl.enabled\", \"false\")\n",
    "spark.conf.set('spark.hadoop.fs.s3a.aws.credentials.provider', 'org.apache.hadoop.fs.s3a.SimpleAWSCredentialsProvider')"
   ]
  },
  {
   "cell_type": "code",
   "execution_count": null,
   "id": "7c8b9322",
   "metadata": {},
   "outputs": [],
   "source": [
    "df = spark.read.csv('s3a://bucketname/spark-operator-on-k8s/data/input/input.txt',header=True)"
   ]
  }
 ],
 "metadata": {
  "kernelspec": {
   "display_name": "Python 3",
   "language": "python",
   "name": "python3"
  },
  "language_info": {
   "codemirror_mode": {
    "name": "ipython",
    "version": 3
   },
   "file_extension": ".py",
   "mimetype": "text/x-python",
   "name": "python",
   "nbconvert_exporter": "python",
   "pygments_lexer": "ipython3",
   "version": "3.6.15"
  }
 },
 "nbformat": 4,
 "nbformat_minor": 5
}
