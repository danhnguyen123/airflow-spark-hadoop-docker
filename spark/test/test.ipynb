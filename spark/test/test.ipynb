{
 "cells": [
  {
   "cell_type": "code",
   "execution_count": 1,
   "metadata": {},
   "outputs": [],
   "source": [
    "import os\n",
    "import pandas as pd\n",
    "import pyspark\n",
    "from pyspark.conf import SparkConf\n",
    "from pyspark.sql import SparkSession\n",
    "from pyspark.sql.functions import when, col, lit\n",
    "from pyspark.sql.types import * \n",
    "import pandas as pd\n",
    "import pyspark.sql.functions as sf"
   ]
  },
  {
   "cell_type": "code",
   "execution_count": 2,
   "metadata": {},
   "outputs": [
    {
     "data": {
      "text/plain": [
       "'/opt/workspace'"
      ]
     },
     "execution_count": 2,
     "metadata": {},
     "output_type": "execute_result"
    }
   ],
   "source": [
    "os.getcwd()"
   ]
  },
  {
   "cell_type": "code",
   "execution_count": 3,
   "metadata": {},
   "outputs": [],
   "source": [
    "from helper import spark_helper"
   ]
  },
  {
   "cell_type": "code",
   "execution_count": 4,
   "metadata": {},
   "outputs": [
    {
     "name": "stderr",
     "output_type": "stream",
     "text": [
      "22/11/20 02:32:23 WARN NativeCodeLoader: Unable to load native-hadoop library for your platform... using builtin-java classes where applicable\n",
      "Using Spark's default log4j profile: org/apache/spark/log4j-defaults.properties\n",
      "Setting default log level to \"WARN\".\n",
      "To adjust logging level use sc.setLogLevel(newLevel). For SparkR, use setLogLevel(newLevel).\n"
     ]
    }
   ],
   "source": [
    "spark = spark_helper.get_spark_context(\"Class4\")"
   ]
  },
  {
   "cell_type": "code",
   "execution_count": 5,
   "metadata": {},
   "outputs": [],
   "source": [
    "path = '/opt/workspace/data/'\n",
    "file_name = '20220401.json'\n",
    "date = '2022-04-01'"
   ]
  },
  {
   "cell_type": "code",
   "execution_count": 6,
   "metadata": {},
   "outputs": [
    {
     "name": "stderr",
     "output_type": "stream",
     "text": [
      "                                                                                \r"
     ]
    },
    {
     "name": "stdout",
     "output_type": "stream",
     "text": [
      "+---------+-----------+-------------+----------+\n",
      "| Contract|       Type|TotalDuration|      Date|\n",
      "+---------+-----------+-------------+----------+\n",
      "|HNH579912|Truyền Hình|          254|2022-04-01|\n",
      "|HUFD40665|Truyền Hình|         1457|2022-04-01|\n",
      "|HNH572635|Truyền Hình|         2318|2022-04-01|\n",
      "|HND141717|Truyền Hình|         1452|2022-04-01|\n",
      "|HNH743103|Truyền Hình|          251|2022-04-01|\n",
      "|HNH893773|Truyền Hình|          924|2022-04-01|\n",
      "|HND083642|Truyền Hình|         1444|2022-04-01|\n",
      "|DNFD74404|Truyền Hình|          691|2022-04-01|\n",
      "|DTFD21200|Truyền Hình|         1436|2022-04-01|\n",
      "|LDFD05747|Truyền Hình|         1434|2022-04-01|\n",
      "|HNH063566|Truyền Hình|          687|2022-04-01|\n",
      "|HNH866786|Truyền Hình|          248|2022-04-01|\n",
      "|NBAAA1128|Truyền Hình|          247|2022-04-01|\n",
      "|HNH960439|Truyền Hình|          683|2022-04-01|\n",
      "|HNJ035736|Truyền Hình|          246|2022-04-01|\n",
      "|NTFD93673|Truyền Hình|         2288|2022-04-01|\n",
      "|HNJ063267|Truyền Hình|         2282|2022-04-01|\n",
      "|HNH790383|Truyền Hình|          906|2022-04-01|\n",
      "|THFD12466|Truyền Hình|          242|2022-04-01|\n",
      "|HNH566080|Truyền Hình|          242|2022-04-01|\n",
      "+---------+-----------+-------------+----------+\n",
      "only showing top 20 rows\n",
      "\n"
     ]
    }
   ],
   "source": [
    "df = spark.read.json(path+file_name)\n",
    "df = df.select('_source.AppName','_source.Contract','_source.Mac','_source.TotalDuration')\n",
    "df = df.withColumn('Date',lit(date))\n",
    "df = df.withColumn('Type',\n",
    "                when((col(\"AppName\") == 'CHANNEL') | (col(\"AppName\") =='DSHD')| (col(\"AppName\") =='KPLUS')| (col(\"AppName\") =='KPlus'), \"Truyền Hình\")\n",
    "        .when((col(\"AppName\") == 'VOD') | (col(\"AppName\") =='FIMS_RES')| (col(\"AppName\") =='BHD_RES')| \n",
    "                (col(\"AppName\") =='VOD_RES')| (col(\"AppName\") =='FIMS')| (col(\"AppName\") =='BHD')| (col(\"AppName\") =='DANET'), \"Phim Truyện\")\n",
    "        .when((col(\"AppName\") == 'RELAX'), \"Giải Trí\")\n",
    "        .when((col(\"AppName\") == 'CHILD'), \"Thiếu Nhi\")\n",
    "        .when((col(\"AppName\") == 'SPORT'), \"Thể Thao\")\n",
    "        .otherwise(\"Error\"))\n",
    "df = df.select('Contract','Type','TotalDuration','Date')\n",
    "# df = df.groupBy('Contract','Type','Date').agg({'TotalDuration':'sum'}).withColumnRenamed('sum(TotalDuration)','TotalDuration')\n",
    "\n",
    "df.show()"
   ]
  },
  {
   "cell_type": "code",
   "execution_count": 7,
   "metadata": {},
   "outputs": [],
   "source": [
    "df = df.cache()"
   ]
  },
  {
   "cell_type": "code",
   "execution_count": 8,
   "metadata": {},
   "outputs": [
    {
     "name": "stderr",
     "output_type": "stream",
     "text": [
      "[Stage 2:>                                                          (0 + 1) / 1]\r"
     ]
    },
    {
     "name": "stdout",
     "output_type": "stream",
     "text": [
      "+---------+-----------+-------------+----------+\n",
      "| Contract|       Type|TotalDuration|      Date|\n",
      "+---------+-----------+-------------+----------+\n",
      "|HNH579912|Truyền Hình|          254|2022-04-01|\n",
      "|HUFD40665|Truyền Hình|         1457|2022-04-01|\n",
      "|HNH572635|Truyền Hình|         2318|2022-04-01|\n",
      "|HND141717|Truyền Hình|         1452|2022-04-01|\n",
      "|HNH743103|Truyền Hình|          251|2022-04-01|\n",
      "|HNH893773|Truyền Hình|          924|2022-04-01|\n",
      "|HND083642|Truyền Hình|         1444|2022-04-01|\n",
      "|DNFD74404|Truyền Hình|          691|2022-04-01|\n",
      "|DTFD21200|Truyền Hình|         1436|2022-04-01|\n",
      "|LDFD05747|Truyền Hình|         1434|2022-04-01|\n",
      "|HNH063566|Truyền Hình|          687|2022-04-01|\n",
      "|HNH866786|Truyền Hình|          248|2022-04-01|\n",
      "|NBAAA1128|Truyền Hình|          247|2022-04-01|\n",
      "|HNH960439|Truyền Hình|          683|2022-04-01|\n",
      "|HNJ035736|Truyền Hình|          246|2022-04-01|\n",
      "|NTFD93673|Truyền Hình|         2288|2022-04-01|\n",
      "|HNJ063267|Truyền Hình|         2282|2022-04-01|\n",
      "|HNH790383|Truyền Hình|          906|2022-04-01|\n",
      "|THFD12466|Truyền Hình|          242|2022-04-01|\n",
      "|HNH566080|Truyền Hình|          242|2022-04-01|\n",
      "+---------+-----------+-------------+----------+\n",
      "only showing top 20 rows\n",
      "\n"
     ]
    },
    {
     "name": "stderr",
     "output_type": "stream",
     "text": [
      "                                                                                \r"
     ]
    }
   ],
   "source": [
    "df.select('Contract','Type','TotalDuration','Date').show()"
   ]
  },
  {
   "cell_type": "code",
   "execution_count": 9,
   "metadata": {},
   "outputs": [
    {
     "name": "stderr",
     "output_type": "stream",
     "text": [
      "                                                                                \r"
     ]
    },
    {
     "data": {
      "text/plain": [
       "1360622"
      ]
     },
     "execution_count": 9,
     "metadata": {},
     "output_type": "execute_result"
    }
   ],
   "source": [
    "df.select('Contract').distinct().count()"
   ]
  },
  {
   "cell_type": "code",
   "execution_count": 10,
   "metadata": {},
   "outputs": [],
   "source": [
    "daily_statistic = df.groupBy('Date','Type').agg({'TotalDuration':'sum','Contract':'count'}).withColumnRenamed('sum(TotalDuration)','TotalDuration').withColumnRenamed('count(Contract)','TotalUsers')"
   ]
  },
  {
   "cell_type": "code",
   "execution_count": 11,
   "metadata": {},
   "outputs": [
    {
     "name": "stderr",
     "output_type": "stream",
     "text": [
      "                                                                                \r"
     ]
    },
    {
     "name": "stdout",
     "output_type": "stream",
     "text": [
      "+----------+-----------+----------+-------------+\n",
      "|      Date|       Type|TotalUsers|TotalDuration|\n",
      "+----------+-----------+----------+-------------+\n",
      "|2022-04-01|Phim Truyện|     89040|    627150472|\n",
      "|2022-04-01|Truyền Hình|   1523013|  25210339682|\n",
      "|2022-04-01|   Giải Trí|      6445|     20907906|\n",
      "|2022-04-01|  Thiếu Nhi|     33723|    178570178|\n",
      "|2022-04-01|   Thể Thao|      2298|      1166238|\n",
      "+----------+-----------+----------+-------------+\n",
      "\n"
     ]
    }
   ],
   "source": [
    "daily_statistic.show()"
   ]
  },
  {
   "cell_type": "code",
   "execution_count": 12,
   "metadata": {},
   "outputs": [
    {
     "name": "stdout",
     "output_type": "stream",
     "text": [
      "+----------+-----------+----------+------------------+\n",
      "|      Date|       Type|TotalUsers|     TotalDuration|\n",
      "+----------+-----------+----------+------------------+\n",
      "|2022-04-01|Phim Truyện|     89040|174208.46444444446|\n",
      "|2022-04-01|Truyền Hình|   1523013| 7002872.133888889|\n",
      "|2022-04-01|   Giải Trí|      6445| 5807.751666666667|\n",
      "|2022-04-01|  Thiếu Nhi|     33723| 49602.82722222222|\n",
      "|2022-04-01|   Thể Thao|      2298|           323.955|\n",
      "+----------+-----------+----------+------------------+\n",
      "\n"
     ]
    }
   ],
   "source": [
    "daily_statistic.withColumn('TotalDuration',col('TotalDuration')/3600).show()"
   ]
  },
  {
   "cell_type": "code",
   "execution_count": 13,
   "metadata": {},
   "outputs": [
    {
     "data": {
      "text/plain": [
       "<bound method SparkSession.stop of <pyspark.sql.session.SparkSession object at 0x7fb08c44eb80>>"
      ]
     },
     "execution_count": 13,
     "metadata": {},
     "output_type": "execute_result"
    },
    {
     "name": "stderr",
     "output_type": "stream",
     "text": [
      "22/11/20 02:34:41 WARN JavaUtils: Attempt to delete using native Unix OS command failed for path = /tmp/spark-f408398c-0856-410b-aeb3-8ed05f955740/pyspark-8b815098-9924-4797-bbdb-61de6ae7b13a. Falling back to Java IO way\n",
      "java.io.IOException: Failed to delete: /tmp/spark-f408398c-0856-410b-aeb3-8ed05f955740/pyspark-8b815098-9924-4797-bbdb-61de6ae7b13a\n",
      "\tat org.apache.spark.network.util.JavaUtils.deleteRecursivelyUsingUnixNative(JavaUtils.java:171)\n",
      "\tat org.apache.spark.network.util.JavaUtils.deleteRecursively(JavaUtils.java:110)\n",
      "\tat org.apache.spark.network.util.JavaUtils.deleteRecursively(JavaUtils.java:91)\n",
      "\tat org.apache.spark.util.Utils$.deleteRecursively(Utils.scala:1141)\n",
      "\tat org.apache.spark.util.ShutdownHookManager$.$anonfun$new$4(ShutdownHookManager.scala:65)\n",
      "\tat org.apache.spark.util.ShutdownHookManager$.$anonfun$new$4$adapted(ShutdownHookManager.scala:62)\n",
      "\tat scala.collection.IndexedSeqOptimized.foreach(IndexedSeqOptimized.scala:36)\n",
      "\tat scala.collection.IndexedSeqOptimized.foreach$(IndexedSeqOptimized.scala:33)\n",
      "\tat scala.collection.mutable.ArrayOps$ofRef.foreach(ArrayOps.scala:198)\n",
      "\tat org.apache.spark.util.ShutdownHookManager$.$anonfun$new$2(ShutdownHookManager.scala:62)\n",
      "\tat org.apache.spark.util.SparkShutdownHook.run(ShutdownHookManager.scala:214)\n",
      "\tat org.apache.spark.util.SparkShutdownHookManager.$anonfun$runAll$2(ShutdownHookManager.scala:188)\n",
      "\tat scala.runtime.java8.JFunction0$mcV$sp.apply(JFunction0$mcV$sp.java:23)\n",
      "\tat org.apache.spark.util.Utils$.logUncaughtExceptions(Utils.scala:1996)\n",
      "\tat org.apache.spark.util.SparkShutdownHookManager.$anonfun$runAll$1(ShutdownHookManager.scala:188)\n",
      "\tat scala.runtime.java8.JFunction0$mcV$sp.apply(JFunction0$mcV$sp.java:23)\n",
      "\tat scala.util.Try$.apply(Try.scala:213)\n",
      "\tat org.apache.spark.util.SparkShutdownHookManager.runAll(ShutdownHookManager.scala:188)\n",
      "\tat org.apache.spark.util.SparkShutdownHookManager$$anon$2.run(ShutdownHookManager.scala:178)\n",
      "\tat java.util.concurrent.Executors$RunnableAdapter.call(Executors.java:511)\n",
      "\tat java.util.concurrent.FutureTask.run(FutureTask.java:266)\n",
      "\tat java.util.concurrent.ThreadPoolExecutor.runWorker(ThreadPoolExecutor.java:1149)\n",
      "\tat java.util.concurrent.ThreadPoolExecutor$Worker.run(ThreadPoolExecutor.java:624)\n",
      "\tat java.lang.Thread.run(Thread.java:750)\n"
     ]
    }
   ],
   "source": [
    "spark.stop"
   ]
  }
 ],
 "metadata": {
  "kernelspec": {
   "display_name": "Python 3 (ipykernel)",
   "language": "python",
   "name": "python3"
  },
  "language_info": {
   "codemirror_mode": {
    "name": "ipython",
    "version": 3
   },
   "file_extension": ".py",
   "mimetype": "text/x-python",
   "name": "python",
   "nbconvert_exporter": "python",
   "pygments_lexer": "ipython3",
   "version": "3.9.7"
  }
 },
 "nbformat": 4,
 "nbformat_minor": 4
}
